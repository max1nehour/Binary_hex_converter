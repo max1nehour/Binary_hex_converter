{
  "nbformat": 4,
  "nbformat_minor": 0,
  "metadata": {
    "colab": {
      "provenance": [],
      "authorship_tag": "ABX9TyNR/lkbKxttLKA38iJUrFb6",
      "include_colab_link": true
    },
    "kernelspec": {
      "name": "python3",
      "display_name": "Python 3"
    },
    "language_info": {
      "name": "python"
    }
  },
  "cells": [
    {
      "cell_type": "markdown",
      "metadata": {
        "id": "view-in-github",
        "colab_type": "text"
      },
      "source": [
        "<a href=\"https://colab.research.google.com/github/max1nehour/hw1_binary_hex_converter/blob/main/decimal_converter.ipynb\" target=\"_parent\"><img src=\"https://colab.research.google.com/assets/colab-badge.svg\" alt=\"Open In Colab\"/></a>"
      ]
    },
    {
      "cell_type": "code",
      "execution_count": 31,
      "metadata": {
        "colab": {
          "base_uri": "https://localhost:8080/"
        },
        "id": "KD8WwdHA01CZ",
        "outputId": "954552da-9c44-4c5c-8f5d-7586ca730e6b"
      },
      "outputs": [
        {
          "output_type": "stream",
          "name": "stdout",
          "text": [
            "Decimal Number(0~255):45\n",
            "Decimal Number : 45\n",
            "(Converting to Hexadecimal Number....)\n",
            "Hexadecimal Number : 2 d\n",
            "(Converting to Binary Number....)\n",
            "Binary Number : 101101\n"
          ]
        }
      ],
      "source": [
        "#2023.03.02 maxine\n",
        "#Decimal Converter\n",
        "\n",
        "decimal = int(input(\"Decimal Number(0~255):\"))\n",
        "if decimal <= 255 and decimal >= 0:\n",
        "  print(\"Decimal Number :\",decimal)\n",
        "else:\n",
        "  print(\"ERROR: PLS enter numbers in the range of 0~255\")\n",
        "\n",
        "\n",
        "#DECIMAL TO HEXADECIMAL#\n",
        "print(\"(Converting to Hexadecimal Number....)\")\n",
        "hexa_dict = {10 :\"a\", 11:\"b\", 12:\"c\", 13:\"d\", 14:\"e\", 15: \"f\"}\n",
        "\n",
        "hexa1 = (int(decimal/16))\n",
        "hexa2 = decimal%16 \n",
        "\n",
        "#hexa1 CONVERT\n",
        "if hexa1 > 9 :\n",
        "    hexa1 = hexa_dict.get(hexa1)\n",
        "#hexa2 CONVERT\n",
        "if hexa2 > 9 :\n",
        "    hexa2 = hexa_dict.get(hexa2)\n",
        "    print(\"Hexadecimal Number :\",hexa1,hexa2)\n",
        "\n",
        "else:\n",
        "    print(\"Hexadecimal Number :\",hexa1*10+hexa2)\n",
        "\n",
        "\n",
        "#DECIMAL TO BINARY#\n",
        "print(\"(Converting to Binary Number....)\")\n",
        "\n",
        "n = 8\n",
        "binary = 0\n",
        "\n",
        "while n>=0 :\n",
        "  if decimal < 2**n and decimal >= 2**(n-1):\n",
        "    binary += 10**(n-1)\n",
        "    decimal -= 2**(n-1)\n",
        "    n-=1 \n",
        "  else:\n",
        "    n-=1\n",
        "\n",
        "print(\"Binary Number :\",binary)\n",
        "\n",
        "#end"
      ]
    }
  ]
}